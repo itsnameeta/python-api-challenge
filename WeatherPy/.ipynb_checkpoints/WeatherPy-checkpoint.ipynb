{
 "cells": [
  {
   "cell_type": "markdown",
   "metadata": {},
   "source": [
    "\n",
    "## Part I - WeatherPy\n",
    "----\n",
    "\n",
    "#### Note\n",
    "* Instructions have been included for each segment. You do not have to follow them exactly, but they are included to help you think through the steps.\n",
    "\n",
    "In this example, you'll be creating a Python script to visualise the weather of 500+ cities across the world of varying distance from the equator. To accomplish this, you'll be utilising a [simple Python library](https://pypi.python.org/pypi/citipy), the [OpenWeatherMap API](https://openweathermap.org/api), and a little common sense to create a representative model of weather across world cities.\n",
    "\n",
    "Your first requirement is to create a series of scatter plots to showcase the following relationships:\n",
    "\n",
    "* Temperature (F) vs. Latitude\n",
    "* Humidity (%) vs. Latitude\n",
    "* Cloudiness (%) vs. Latitude\n",
    "* Wind Speed (mph) vs. Latitude\n",
    "\n",
    "After each plot add a sentence or too explaining what the code is and analysing.\n",
    "\n",
    "Your second requirement is to run linear regression on each relationship, only this time separating them into Northern Hemisphere (greater than or equal to 0 degrees latitude) and Southern Hemisphere (less than 0 degrees latitude):\n",
    "\n",
    "* Northern Hemisphere - Temperature (F) vs. Latitude\n",
    "* Southern Hemisphere - Temperature (F) vs. Latitude\n",
    "* Northern Hemisphere - Humidity (%) vs. Latitude\n",
    "* Southern Hemisphere - Humidity (%) vs. Latitude\n",
    "* Northern Hemisphere - Cloudiness (%) vs. Latitude\n",
    "* Southern Hemisphere - Cloudiness (%) vs. Latitude\n",
    "* Northern Hemisphere - Wind Speed (mph) vs. Latitude\n",
    "* Southern Hemisphere - Wind Speed (mph) vs. Latitude\n",
    "\n",
    "After each pair of plots explain what the linear regression is modelling such as any relationships you notice and any other analysis you may have.\n",
    "\n",
    "Your final notebook must:\n",
    "\n",
    "* Randomly select **at least** 500 unique (non-repeat) cities based on latitude and longitude.\n",
    "* Perform a weather check on each of the cities using a series of successive API calls.\n",
    "* Include a print log of each city as it's being processed with the city number and city name.\n",
    "* Save a CSV of all retrieved data and a PNG image for each scatter plot."
   ]
  },
  {
   "cell_type": "code",
   "execution_count": 22,
   "metadata": {
    "scrolled": true
   },
   "outputs": [],
   "source": [
    "# Importing base libraries\n",
    "import pandas as pd\n",
    "import matplotlib.pyplot as plt\n",
    "import scipy.stats as st\n",
    "import numpy as np\n",
    "from scipy import stats\n",
    "from datetime import date\n",
    "\n",
    "# Importing libraries needed for API requests\n",
    "import json\n",
    "import requests\n",
    "\n",
    "# Importing random library for randomizing longitudes\n",
    "import random\n",
    "\n",
    "# Importing library which returns the nearest city for given (latitude, longitude)\n",
    "from citipy import citipy\n",
    "\n",
    "# Output File (CSV)\n",
    "output_data = \"Data/city_weather.csv\"\n",
    "\n",
    "# API key\n",
    "#from config import api_key\n",
    "api_key = \"30b07a8a7dcf189197c5d62313fa7b2c\""
   ]
  },
  {
   "cell_type": "markdown",
   "metadata": {},
   "source": [
    "## Generate Cities List"
   ]
  },
  {
   "cell_type": "code",
   "execution_count": 14,
   "metadata": {},
   "outputs": [
    {
     "data": {
      "text/plain": [
       "43"
      ]
     },
     "execution_count": 14,
     "metadata": {},
     "output_type": "execute_result"
    }
   ],
   "source": [
    "# Range of latitudes and longitudes  \n",
    "lat_range = (-90, 90)\n",
    "lng_range = (-180, 180)\n",
    "\n",
    "# List for holding lat_lngs and cities\n",
    "lat_lngs = []\n",
    "cities = []\n",
    "\n",
    "# Create a set of random lat and lng combinations\n",
    "lats = np.random.uniform(low=-90.000, high=90.000, size=100)\n",
    "lngs = np.random.uniform(low=-180.000, high=180.000, size=100)\n",
    "lat_lngs = zip(lats, lngs)\n",
    "\n",
    "\n",
    "# Identify nearest city for each lat, lng combination\n",
    "for lat_lng in lat_lngs:\n",
    "    city = citipy.nearest_city(lat_lng[0], lat_lng[1]).city_name\n",
    "    \n",
    "    # If the city is unique, then add it to a our cities list\n",
    "    if city not in cities:\n",
    "        cities.append(city)\n",
    "\n",
    "# Print the city count to confirm sufficient count\n",
    "len(cities)"
   ]
  },
  {
   "cell_type": "markdown",
   "metadata": {},
   "source": [
    "### Perform API Calls\n",
    "* Perform a weather check on each city using a series of successive API calls.\n",
    "* Include a print log of each city as it'sbeing processed (with the city number and city name).\n"
   ]
  },
  {
   "cell_type": "code",
   "execution_count": 15,
   "metadata": {},
   "outputs": [
    {
     "data": {
      "text/plain": [
       "{'coord': {'lon': -0.1257, 'lat': 51.5085},\n",
       " 'weather': [{'id': 803,\n",
       "   'main': 'Clouds',\n",
       "   'description': 'broken clouds',\n",
       "   'icon': '04n'}],\n",
       " 'base': 'stations',\n",
       " 'main': {'temp': 55.24,\n",
       "  'feels_like': 54.64,\n",
       "  'temp_min': 51.69,\n",
       "  'temp_max': 58.75,\n",
       "  'pressure': 1017,\n",
       "  'humidity': 89},\n",
       " 'visibility': 10000,\n",
       " 'wind': {'speed': 4.61, 'deg': 220},\n",
       " 'clouds': {'all': 53},\n",
       " 'dt': 1631748140,\n",
       " 'sys': {'type': 2,\n",
       "  'id': 2019646,\n",
       "  'country': 'GB',\n",
       "  'sunrise': 1631770630,\n",
       "  'sunset': 1631816023},\n",
       " 'timezone': 3600,\n",
       " 'id': 2643743,\n",
       " 'name': 'London',\n",
       " 'cod': 200}"
      ]
     },
     "execution_count": 15,
     "metadata": {},
     "output_type": "execute_result"
    }
   ],
   "source": [
    "# Pass the url and create empty lists to store the data for each field\n",
    "\n",
    "base_url = \"http://api.openweathermap.org/data/2.5/weather?\"\n",
    "units = \"imperial\"\n",
    "query_url = f\"{base_url}appid={api_key}&units={units}&q=\"\n",
    "\n",
    "city_name_list = []\n",
    "cloudiness_list = []\n",
    "country_list = []\n",
    "date_list = []\n",
    "humidity_list = []\n",
    "lat_list = []\n",
    "lng_list = []\n",
    "max_temp_list = []\n",
    "wind_speed_list = []\n",
    "index_counter = 0\n",
    "set_counter = 1\n",
    "\n",
    "test_response = requests.get(query_url + \"London\").json()\n",
    "test_response"
   ]
  },
  {
   "cell_type": "code",
   "execution_count": 16,
   "metadata": {
    "scrolled": true
   },
   "outputs": [
    {
     "name": "stdout",
     "output_type": "stream",
     "text": [
      "Beginning Data Retrieval \n",
      "-----------------------------\n",
      "City not found. Skipping...\n",
      "Processing Record 1 of Set 1 : limbdi\n",
      "Processing Record 2 of Set 1 : kapaa\n",
      "Processing Record 3 of Set 1 : saint anthony\n",
      "Processing Record 4 of Set 1 : tondano\n",
      "Processing Record 5 of Set 1 : tuktoyaktuk\n",
      "Processing Record 6 of Set 1 : madison\n",
      "Processing Record 7 of Set 1 : bethel\n",
      "Processing Record 8 of Set 1 : vila\n",
      "Processing Record 9 of Set 1 : tambura\n",
      "Processing Record 10 of Set 1 : busselton\n",
      "Processing Record 11 of Set 1 : malpe\n",
      "Processing Record 12 of Set 1 : luderitz\n",
      "Processing Record 13 of Set 1 : altoona\n",
      "Processing Record 14 of Set 1 : barrow\n",
      "Processing Record 15 of Set 1 : port alfred\n",
      "Processing Record 16 of Set 1 : east london\n",
      "Processing Record 17 of Set 1 : ushuaia\n",
      "City not found. Skipping...\n",
      "Processing Record 18 of Set 1 : albany\n",
      "Processing Record 19 of Set 1 : nikolskoye\n",
      "City not found. Skipping...\n",
      "Processing Record 20 of Set 1 : iberia\n",
      "Processing Record 21 of Set 1 : mataura\n",
      "Processing Record 22 of Set 1 : chokurdakh\n",
      "Processing Record 23 of Set 1 : havoysund\n",
      "Processing Record 24 of Set 1 : san jose\n",
      "Processing Record 25 of Set 1 : sobolevo\n",
      "Processing Record 26 of Set 1 : qaanaaq\n",
      "Processing Record 27 of Set 1 : esperance\n",
      "Processing Record 28 of Set 1 : wanxian\n",
      "Processing Record 29 of Set 1 : chuy\n",
      "Processing Record 30 of Set 1 : karratha\n",
      "Processing Record 31 of Set 1 : khatanga\n",
      "Processing Record 32 of Set 1 : west wendover\n",
      "Processing Record 33 of Set 1 : anadyr\n",
      "Processing Record 34 of Set 1 : ilebo\n",
      "Processing Record 35 of Set 1 : beloha\n",
      "Processing Record 36 of Set 1 : itarema\n",
      "Processing Record 37 of Set 1 : parambu\n",
      "Processing Record 38 of Set 1 : rikitea\n",
      "Processing Record 39 of Set 1 : asyut\n",
      "Processing Record 40 of Set 1 : oussouye\n",
      "-----------------------------\n",
      "Data Retrieval Complete\n",
      "-----------------------------\n"
     ]
    }
   ],
   "source": [
    "print(\"Beginning Data Retrieval \")\n",
    "print(\"-----------------------------\")\n",
    "\n",
    "# For each city name in cities list, do below things...\n",
    "for index, city in enumerate(cities, start = 1):\n",
    "    try:\n",
    "        response = requests.get(query_url + city).json()\n",
    "        city_name_list.append(response[\"name\"])\n",
    "        cloudiness_list.append(response[\"clouds\"][\"all\"])\n",
    "        country_list.append(response[\"sys\"][\"country\"])\n",
    "        date_list.append(response[\"dt\"])\n",
    "        humidity_list.append(response[\"main\"][\"humidity\"])\n",
    "        lat_list.append(response[\"coord\"][\"lat\"])\n",
    "        lng_list.append(response[\"coord\"][\"lon\"])\n",
    "        max_temp_list.append(response['main']['temp_max'])\n",
    "        wind_speed_list.append(response[\"wind\"][\"speed\"])\n",
    "        \n",
    "        if index_counter > 49:\n",
    "            index_counter = 0\n",
    "            set_counter = set_counter + 1\n",
    "    \n",
    "        else:\n",
    "            index_counter = index_counter + 1\n",
    "            \n",
    "        print(f\"Processing Record {index_counter} of Set {set_counter} : {city}\") \n",
    "  \n",
    "    except(KeyError, IndexError):\n",
    "        print(\"City not found. Skipping...\")\n",
    "\n",
    "print(\"-----------------------------\")\n",
    "print(\"Data Retrieval Complete\")\n",
    "print(\"-----------------------------\")"
   ]
  },
  {
   "cell_type": "markdown",
   "metadata": {},
   "source": [
    "### Convert Raw Data to DataFrame\n",
    "* Export the city data into a .csv.\n",
    "* Display the DataFrame"
   ]
  },
  {
   "cell_type": "code",
   "execution_count": 105,
   "metadata": {},
   "outputs": [],
   "source": [
    "# Create a panda data frame to Convert Raw city and weather Data to DataFrame\n",
    "weather_dict_rawdata = pd.DataFrame({ \n",
    "                \"City\" : city_name_list,\n",
    "                \"Lat\" : lat_list,\n",
    "                \"Lng\" : lng_list,\n",
    "                \"Max Temp\" : max_temp_list,\n",
    "                \"Humidity\" : humidity_list,\n",
    "                \"Cloudiness\" : cloudiness_list,\n",
    "                \"Wind Speed\" : wind_speed_list,\n",
    "                \"Country\" : country_list,\n",
    "                \"Date\" : date_list\n",
    "})"
   ]
  },
  {
   "cell_type": "code",
   "execution_count": 106,
   "metadata": {},
   "outputs": [
    {
     "data": {
      "text/html": [
       "<div>\n",
       "<style scoped>\n",
       "    .dataframe tbody tr th:only-of-type {\n",
       "        vertical-align: middle;\n",
       "    }\n",
       "\n",
       "    .dataframe tbody tr th {\n",
       "        vertical-align: top;\n",
       "    }\n",
       "\n",
       "    .dataframe thead th {\n",
       "        text-align: right;\n",
       "    }\n",
       "</style>\n",
       "<table border=\"1\" class=\"dataframe\">\n",
       "  <thead>\n",
       "    <tr style=\"text-align: right;\">\n",
       "      <th></th>\n",
       "      <th>City</th>\n",
       "      <th>Lat</th>\n",
       "      <th>Lng</th>\n",
       "      <th>Max Temp</th>\n",
       "      <th>Humidity</th>\n",
       "      <th>Cloudiness</th>\n",
       "      <th>Wind Speed</th>\n",
       "      <th>Country</th>\n",
       "      <th>Date</th>\n",
       "    </tr>\n",
       "  </thead>\n",
       "  <tbody>\n",
       "    <tr>\n",
       "      <th>0</th>\n",
       "      <td>Limbdi</td>\n",
       "      <td>22.5667</td>\n",
       "      <td>71.8000</td>\n",
       "      <td>79.09</td>\n",
       "      <td>91</td>\n",
       "      <td>72</td>\n",
       "      <td>9.26</td>\n",
       "      <td>IN</td>\n",
       "      <td>1631748252</td>\n",
       "    </tr>\n",
       "    <tr>\n",
       "      <th>1</th>\n",
       "      <td>Kapaa</td>\n",
       "      <td>22.0752</td>\n",
       "      <td>-159.3190</td>\n",
       "      <td>87.78</td>\n",
       "      <td>66</td>\n",
       "      <td>1</td>\n",
       "      <td>3.00</td>\n",
       "      <td>US</td>\n",
       "      <td>1631748252</td>\n",
       "    </tr>\n",
       "    <tr>\n",
       "      <th>2</th>\n",
       "      <td>Saint Anthony</td>\n",
       "      <td>45.0205</td>\n",
       "      <td>-93.2180</td>\n",
       "      <td>77.94</td>\n",
       "      <td>36</td>\n",
       "      <td>1</td>\n",
       "      <td>5.01</td>\n",
       "      <td>US</td>\n",
       "      <td>1631748254</td>\n",
       "    </tr>\n",
       "    <tr>\n",
       "      <th>3</th>\n",
       "      <td>Tondano</td>\n",
       "      <td>1.3038</td>\n",
       "      <td>124.9112</td>\n",
       "      <td>68.09</td>\n",
       "      <td>91</td>\n",
       "      <td>100</td>\n",
       "      <td>1.90</td>\n",
       "      <td>ID</td>\n",
       "      <td>1631748255</td>\n",
       "    </tr>\n",
       "    <tr>\n",
       "      <th>4</th>\n",
       "      <td>Tuktoyaktuk</td>\n",
       "      <td>69.4541</td>\n",
       "      <td>-133.0374</td>\n",
       "      <td>50.00</td>\n",
       "      <td>71</td>\n",
       "      <td>75</td>\n",
       "      <td>9.22</td>\n",
       "      <td>CA</td>\n",
       "      <td>1631748255</td>\n",
       "    </tr>\n",
       "  </tbody>\n",
       "</table>\n",
       "</div>"
      ],
      "text/plain": [
       "            City      Lat       Lng  Max Temp  Humidity  Cloudiness  \\\n",
       "0         Limbdi  22.5667   71.8000     79.09        91          72   \n",
       "1          Kapaa  22.0752 -159.3190     87.78        66           1   \n",
       "2  Saint Anthony  45.0205  -93.2180     77.94        36           1   \n",
       "3        Tondano   1.3038  124.9112     68.09        91         100   \n",
       "4    Tuktoyaktuk  69.4541 -133.0374     50.00        71          75   \n",
       "\n",
       "   Wind Speed Country        Date  \n",
       "0        9.26      IN  1631748252  \n",
       "1        3.00      US  1631748252  \n",
       "2        5.01      US  1631748254  \n",
       "3        1.90      ID  1631748255  \n",
       "4        9.22      CA  1631748255  "
      ]
     },
     "execution_count": 106,
     "metadata": {},
     "output_type": "execute_result"
    }
   ],
   "source": [
    "# Display the Data Frame\n",
    "weather_dict_rawdata.head()"
   ]
  },
  {
   "cell_type": "code",
   "execution_count": 19,
   "metadata": {},
   "outputs": [],
   "source": [
    "# Save city data into a csv file\n",
    "weather_dict_rawdata.to_csv(\"Data/City_Weather.csv\")"
   ]
  },
  {
   "cell_type": "markdown",
   "metadata": {},
   "source": [
    "## Inspect the data and remove the cities where the humidity > 100%.\n",
    "----\n",
    "Skip this step if there are no cities that have humidity > 100%. "
   ]
  },
  {
   "cell_type": "code",
   "execution_count": 124,
   "metadata": {},
   "outputs": [
    {
     "data": {
      "text/html": [
       "<div>\n",
       "<style scoped>\n",
       "    .dataframe tbody tr th:only-of-type {\n",
       "        vertical-align: middle;\n",
       "    }\n",
       "\n",
       "    .dataframe tbody tr th {\n",
       "        vertical-align: top;\n",
       "    }\n",
       "\n",
       "    .dataframe thead th {\n",
       "        text-align: right;\n",
       "    }\n",
       "</style>\n",
       "<table border=\"1\" class=\"dataframe\">\n",
       "  <thead>\n",
       "    <tr style=\"text-align: right;\">\n",
       "      <th></th>\n",
       "      <th>City</th>\n",
       "      <th>Lat</th>\n",
       "      <th>Lng</th>\n",
       "      <th>Max Temp</th>\n",
       "      <th>Humidity</th>\n",
       "      <th>Cloudiness</th>\n",
       "      <th>Wind Speed</th>\n",
       "      <th>Country</th>\n",
       "      <th>Date</th>\n",
       "    </tr>\n",
       "  </thead>\n",
       "  <tbody>\n",
       "    <tr>\n",
       "      <th>0</th>\n",
       "      <td>Limbdi</td>\n",
       "      <td>22.5667</td>\n",
       "      <td>71.8000</td>\n",
       "      <td>79.09</td>\n",
       "      <td>91</td>\n",
       "      <td>72</td>\n",
       "      <td>9.26</td>\n",
       "      <td>IN</td>\n",
       "      <td>1631748252</td>\n",
       "    </tr>\n",
       "    <tr>\n",
       "      <th>1</th>\n",
       "      <td>Kapaa</td>\n",
       "      <td>22.0752</td>\n",
       "      <td>-159.3190</td>\n",
       "      <td>87.78</td>\n",
       "      <td>66</td>\n",
       "      <td>1</td>\n",
       "      <td>3.00</td>\n",
       "      <td>US</td>\n",
       "      <td>1631748252</td>\n",
       "    </tr>\n",
       "    <tr>\n",
       "      <th>2</th>\n",
       "      <td>Saint Anthony</td>\n",
       "      <td>45.0205</td>\n",
       "      <td>-93.2180</td>\n",
       "      <td>77.94</td>\n",
       "      <td>36</td>\n",
       "      <td>1</td>\n",
       "      <td>5.01</td>\n",
       "      <td>US</td>\n",
       "      <td>1631748254</td>\n",
       "    </tr>\n",
       "    <tr>\n",
       "      <th>3</th>\n",
       "      <td>Tondano</td>\n",
       "      <td>1.3038</td>\n",
       "      <td>124.9112</td>\n",
       "      <td>68.09</td>\n",
       "      <td>91</td>\n",
       "      <td>100</td>\n",
       "      <td>1.90</td>\n",
       "      <td>ID</td>\n",
       "      <td>1631748255</td>\n",
       "    </tr>\n",
       "    <tr>\n",
       "      <th>4</th>\n",
       "      <td>Tuktoyaktuk</td>\n",
       "      <td>69.4541</td>\n",
       "      <td>-133.0374</td>\n",
       "      <td>50.00</td>\n",
       "      <td>71</td>\n",
       "      <td>75</td>\n",
       "      <td>9.22</td>\n",
       "      <td>CA</td>\n",
       "      <td>1631748255</td>\n",
       "    </tr>\n",
       "  </tbody>\n",
       "</table>\n",
       "</div>"
      ],
      "text/plain": [
       "            City      Lat       Lng  Max Temp  Humidity  Cloudiness  \\\n",
       "0         Limbdi  22.5667   71.8000     79.09        91          72   \n",
       "1          Kapaa  22.0752 -159.3190     87.78        66           1   \n",
       "2  Saint Anthony  45.0205  -93.2180     77.94        36           1   \n",
       "3        Tondano   1.3038  124.9112     68.09        91         100   \n",
       "4    Tuktoyaktuk  69.4541 -133.0374     50.00        71          75   \n",
       "\n",
       "   Wind Speed Country        Date  \n",
       "0        9.26      IN  1631748252  \n",
       "1        3.00      US  1631748252  \n",
       "2        5.01      US  1631748254  \n",
       "3        1.90      ID  1631748255  \n",
       "4        9.22      CA  1631748255  "
      ]
     },
     "execution_count": 124,
     "metadata": {},
     "output_type": "execute_result"
    }
   ],
   "source": [
    "humidity_filter=weather_dict_rawdata['Humidity']>100\n",
    "weather_dict=weather_dict_rawdata[~humidity_filter]\n",
    "weather_dict_skip=weather_dict_rawdata[humidity_filter]\n",
    "\n",
    "weather_dict.head()"
   ]
  },
  {
   "cell_type": "code",
   "execution_count": 123,
   "metadata": {},
   "outputs": [],
   "source": [
    "#  Get the indices of cities that have humidity over 100%.\n",
    "#humidity_filter.index()"
   ]
  },
  {
   "cell_type": "code",
   "execution_count": 19,
   "metadata": {},
   "outputs": [
    {
     "data": {
      "text/html": [
       "<div>\n",
       "<style scoped>\n",
       "    .dataframe tbody tr th:only-of-type {\n",
       "        vertical-align: middle;\n",
       "    }\n",
       "\n",
       "    .dataframe tbody tr th {\n",
       "        vertical-align: top;\n",
       "    }\n",
       "\n",
       "    .dataframe thead th {\n",
       "        text-align: right;\n",
       "    }\n",
       "</style>\n",
       "<table border=\"1\" class=\"dataframe\">\n",
       "  <thead>\n",
       "    <tr style=\"text-align: right;\">\n",
       "      <th></th>\n",
       "      <th>City</th>\n",
       "      <th>Lat</th>\n",
       "      <th>Lng</th>\n",
       "      <th>Max Temp</th>\n",
       "      <th>Humidity</th>\n",
       "      <th>Cloudiness</th>\n",
       "      <th>Wind Speed</th>\n",
       "      <th>Country</th>\n",
       "      <th>Date</th>\n",
       "    </tr>\n",
       "  </thead>\n",
       "  <tbody>\n",
       "    <tr>\n",
       "      <td>0</td>\n",
       "      <td>butaritari</td>\n",
       "      <td>3.07</td>\n",
       "      <td>172.79</td>\n",
       "      <td>83.32</td>\n",
       "      <td>74</td>\n",
       "      <td>84</td>\n",
       "      <td>10.42</td>\n",
       "      <td>KI</td>\n",
       "      <td>1593605283</td>\n",
       "    </tr>\n",
       "    <tr>\n",
       "      <td>1</td>\n",
       "      <td>yerbogachen</td>\n",
       "      <td>61.28</td>\n",
       "      <td>108.01</td>\n",
       "      <td>79.52</td>\n",
       "      <td>58</td>\n",
       "      <td>20</td>\n",
       "      <td>7.70</td>\n",
       "      <td>RU</td>\n",
       "      <td>1593605121</td>\n",
       "    </tr>\n",
       "    <tr>\n",
       "      <td>2</td>\n",
       "      <td>cape town</td>\n",
       "      <td>-33.93</td>\n",
       "      <td>18.42</td>\n",
       "      <td>73.00</td>\n",
       "      <td>77</td>\n",
       "      <td>27</td>\n",
       "      <td>4.70</td>\n",
       "      <td>ZA</td>\n",
       "      <td>1593605039</td>\n",
       "    </tr>\n",
       "    <tr>\n",
       "      <td>3</td>\n",
       "      <td>touba</td>\n",
       "      <td>8.28</td>\n",
       "      <td>-7.68</td>\n",
       "      <td>79.97</td>\n",
       "      <td>75</td>\n",
       "      <td>82</td>\n",
       "      <td>3.58</td>\n",
       "      <td>CI</td>\n",
       "      <td>1593605284</td>\n",
       "    </tr>\n",
       "    <tr>\n",
       "      <td>4</td>\n",
       "      <td>jamestown</td>\n",
       "      <td>42.10</td>\n",
       "      <td>-79.24</td>\n",
       "      <td>64.00</td>\n",
       "      <td>88</td>\n",
       "      <td>1</td>\n",
       "      <td>6.93</td>\n",
       "      <td>US</td>\n",
       "      <td>1593605284</td>\n",
       "    </tr>\n",
       "  </tbody>\n",
       "</table>\n",
       "</div>"
      ],
      "text/plain": [
       "          City    Lat     Lng  Max Temp  Humidity  Cloudiness  Wind Speed  \\\n",
       "0   butaritari   3.07  172.79     83.32        74          84       10.42   \n",
       "1  yerbogachen  61.28  108.01     79.52        58          20        7.70   \n",
       "2    cape town -33.93   18.42     73.00        77          27        4.70   \n",
       "3        touba   8.28   -7.68     79.97        75          82        3.58   \n",
       "4    jamestown  42.10  -79.24     64.00        88           1        6.93   \n",
       "\n",
       "  Country        Date  \n",
       "0      KI  1593605283  \n",
       "1      RU  1593605121  \n",
       "2      ZA  1593605039  \n",
       "3      CI  1593605284  \n",
       "4      US  1593605284  "
      ]
     },
     "execution_count": 19,
     "metadata": {},
     "output_type": "execute_result"
    }
   ],
   "source": [
    "# Make a new DataFrame equal to the city data to drop all humidity outliers by index.\n",
    "# Passing \"inplace=False\" will make a copy of the city_data DataFrame, which we call \"clean_city_data\"."
   ]
  },
  {
   "cell_type": "markdown",
   "metadata": {},
   "source": [
    "## Plotting the Data\n",
    "* Use proper labeling of the plots using plot titles (including date of analysis) and axes labels.\n",
    "* Save the plotted figures as .pngs."
   ]
  },
  {
   "cell_type": "code",
   "execution_count": 52,
   "metadata": {},
   "outputs": [
    {
     "data": {
      "text/plain": [
       "'16/09/2021'"
      ]
     },
     "execution_count": 52,
     "metadata": {},
     "output_type": "execute_result"
    }
   ],
   "source": [
    "# Get current date of analysis     \n",
    "curr_date = pd.to_datetime('today').date().strftime(\"%d/%m/%Y\")\n",
    "curr_date"
   ]
  },
  {
   "cell_type": "markdown",
   "metadata": {},
   "source": [
    "## Latitude vs. Temperature Plot"
   ]
  },
  {
   "cell_type": "code",
   "execution_count": 53,
   "metadata": {
    "scrolled": true
   },
   "outputs": [
    {
     "data": {
      "image/png": "[encoded data removed]",
      "text/plain": [
       "<Figure size 432x288 with 1 Axes>"
      ]
     },
     "metadata": {
      "needs_background": "light"
     },
     "output_type": "display_data"
    }
   ],
   "source": [
    "# Create a scatter plot based on new dataframe above (weather data frame )\n",
    "plt.scatter(weather_dict['Lat'], weather_dict['Max Temp'], marker = \"o\", edgecolor='black')\n",
    "\n",
    "# Add labels and title to plot\n",
    "plt.xlabel(\"Latitude\")\n",
    "plt.ylabel(\"Max Temperature (F)\")\n",
    "plt.title('City Latitude vs. Max Temperature (' + curr_date +')')\n",
    "plt.grid(which='major', linestyle='-')\n",
    "plt.grid(which='minor', linestyle=':')\n",
    "plt.savefig(\"Data/City Latitude vs. Max Temperature.png\")\n",
    "\n",
    "# Display plot\n",
    "plt.show()"
   ]
  },
  {
   "cell_type": "markdown",
   "metadata": {},
   "source": [
    "City Latitude vs. Max Temperature plot shows the relationship between latitude and temperature. \n",
    "It shows that the closer you are to the equator (latitude 0), the temperature becomes more and hotter."
   ]
  },
  {
   "cell_type": "markdown",
   "metadata": {},
   "source": [
    "## Latitude vs. Humidity Plot"
   ]
  },
  {
   "cell_type": "code",
   "execution_count": 54,
   "metadata": {},
   "outputs": [
    {
     "data": {
      "image/png": "[encoded data removed]",
      "text/plain": [
       "<Figure size 432x288 with 1 Axes>"
      ]
     },
     "metadata": {
      "needs_background": "light"
     },
     "output_type": "display_data"
    }
   ],
   "source": [
    "# Create a scatter plot based on new dataframe above (weather data frame )\n",
    "plt.scatter(weather_dict['Lat'], weather_dict['Humidity'], marker = \"o\", edgecolor='black')\n",
    "\n",
    "# Add labels and title to plot\n",
    "plt.xlabel(\"Latitude\")\n",
    "plt.ylabel(\"Humidity (%)\")\n",
    "plt.title('City Latitude vs. Humidity (' + curr_date +')')\n",
    "plt.grid(which='major', linestyle='-')\n",
    "plt.grid(which='minor', linestyle=':')\n",
    "plt.savefig(\"Data/City Latitude vs. Humidity.png\")\n",
    "\n",
    "# Display plot\n",
    "plt.show()"
   ]
  },
  {
   "cell_type": "markdown",
   "metadata": {},
   "source": [
    "City Latitude vs. Humidity plot shows the relationship between latitude and humidity. \n",
    "It shows that the humidity is more consistent with higher latitudes."
   ]
  },
  {
   "cell_type": "markdown",
   "metadata": {},
   "source": [
    "## Latitude vs. Cloudiness Plot"
   ]
  },
  {
   "cell_type": "code",
   "execution_count": 64,
   "metadata": {},
   "outputs": [
    {
     "data": {
      "image/png": "[encoded data removed]",
      "text/plain": [
       "<Figure size 432x288 with 1 Axes>"
      ]
     },
     "metadata": {
      "needs_background": "light"
     },
     "output_type": "display_data"
    }
   ],
   "source": [
    "# Create a scatter plot based on new dataframe above (weather data frame )\n",
    "plt.scatter(weather_dict['Lat'], weather_dict['Cloudiness'], marker = \"o\", edgecolor='black')\n",
    "\n",
    "# Add labels and title to plot\n",
    "plt.xlabel(\"Latitude\")\n",
    "plt.ylabel(\"Cloudiness (%)\")\n",
    "plt.title('City Latitude vs. Cloudiness (' + curr_date +')')\n",
    "plt.grid(which='major', linestyle='-')\n",
    "plt.grid(which='minor', linestyle=':')\n",
    "plt.savefig(\"Data/City Latitude vs. Cloudiness.png\")\n",
    "\n",
    "# Display plot\n",
    "plt.show()"
   ]
  },
  {
   "cell_type": "markdown",
   "metadata": {},
   "source": [
    "City Latitude vs. Cloudiness plot shows that there's a random relationship between latitude and cloudiness."
   ]
  },
  {
   "cell_type": "markdown",
   "metadata": {},
   "source": [
    "## Latitude vs. Wind Speed Plot"
   ]
  },
  {
   "cell_type": "code",
   "execution_count": 65,
   "metadata": {},
   "outputs": [
    {
     "data": {
      "image/png": "[encoded data removed]",
      "text/plain": [
       "<Figure size 432x288 with 1 Axes>"
      ]
     },
     "metadata": {
      "needs_background": "light"
     },
     "output_type": "display_data"
    }
   ],
   "source": [
    "# Create a scatter plot based on new dataframe above (weather data frame )\n",
    "plt.scatter(weather_dict['Lat'], weather_dict['Wind Speed'], marker = \"o\", edgecolor='black')\n",
    "\n",
    "# Add labels and title to plot\n",
    "plt.xlabel(\"Latitude\")\n",
    "plt.ylabel(\"Wind Speed (mph)\")\n",
    "plt.title('City Latitude vs. Wind Speed (' + curr_date +')')\n",
    "plt.grid(which='major', linestyle='-')\n",
    "plt.grid(which='minor', linestyle=':')\n",
    "plt.savefig(\"Data/City Latitude vs. Wind Speed.png\")\n",
    "\n",
    "# Display plot\n",
    "plt.show()\n"
   ]
  },
  {
   "cell_type": "markdown",
   "metadata": {},
   "source": [
    "City Latitude vs. Wind Speed plot shows the relationship between latitude and wind speed. \n",
    "The wind speeds are greater as you move farther away from equator (latitude 0). "
   ]
  },
  {
   "cell_type": "markdown",
   "metadata": {},
   "source": [
    "## Linear Regression"
   ]
  },
  {
   "cell_type": "code",
   "execution_count": 79,
   "metadata": {},
   "outputs": [],
   "source": [
    "# Create Northern and Southern Hemisphere DataFrames\n",
    "above_equator = weather_dict['Lat'] >= 0\n",
    "northern_hemisphere = weather_dict[above_equator]\n",
    "southern_hemisphere = weather_dict[~above_equator]"
   ]
  },
  {
   "cell_type": "code",
   "execution_count": 89,
   "metadata": {},
   "outputs": [],
   "source": [
    "# Define plotting function to input X axis and Y axis.\n",
    "\n",
    "def plot_Linear_Regression(xdata,ydata,xlabel,ylabel):\n",
    "    (slope, intercept, rvalue, pvalue, stderr) = stats.linregress(xdata, ydata)\n",
    "    print(f\"The r-value is: {rvalue}\")\n",
    "    regress_values = xdata * slope + intercept\n",
    "    line_eq = \"y = \" + str(round(slope,2)) + \"x + \" + str(round(intercept,2))\n",
    "    plt.scatter(xdata,ydata)\n",
    "    plt.plot(xdata,regress_values,\"r-\")\n",
    "    plt.annotate(line_eq,(10,20),fontsize=12,color=\"red\")\n",
    "    plt.grid()\n",
    "    plt.xlabel(xlabel)\n",
    "    plt.ylabel(ylabel)\n",
    "    plt.show()"
   ]
  },
  {
   "cell_type": "markdown",
   "metadata": {},
   "source": [
    "####  Northern Hemisphere - Max Temp vs. Latitude Linear Regression"
   ]
  },
  {
   "cell_type": "code",
   "execution_count": 90,
   "metadata": {},
   "outputs": [
    {
     "name": "stdout",
     "output_type": "stream",
     "text": [
      "The r-value is: -0.7815045919246917\n"
     ]
    },
    {
     "data": {
      "image/png": "[encoded data removed]",
      "text/plain": [
       "<Figure size 432x288 with 1 Axes>"
      ]
     },
     "metadata": {
      "needs_background": "light"
     },
     "output_type": "display_data"
    }
   ],
   "source": [
    "# Northern Hemisphere - Max Temp vs. Latitude Linear Regression\n",
    "xlabel = \"Lat\"\n",
    "ylabel = \"Max Temp\"\n",
    "plt.title('Northern Hemisphere - Max Temp vs. Latitude Linear Regression')\n",
    "plt.savefig(\"Data/Northern Hemisphere - Max Temp vs. Latitude Linear Regression.png\")\n",
    "plot_Linear_Regression(northern_hemisphere[xlabel],northern_hemisphere[ylabel],xlabel,ylabel)"
   ]
  },
  {
   "cell_type": "markdown",
   "metadata": {},
   "source": [
    "Northern Hemisphere - Max Temp vs. Latitude Linear Regression shows that there is negative linear relationship between Max Temp and Latitude in the Northern Hemisphere. When latitude increases, temperature decreases hence a negative linear relationship exists."
   ]
  },
  {
   "cell_type": "markdown",
   "metadata": {},
   "source": [
    "####  Southern Hemisphere - Max Temp vs. Latitude Linear Regression"
   ]
  },
  {
   "cell_type": "code",
   "execution_count": 98,
   "metadata": {},
   "outputs": [
    {
     "name": "stdout",
     "output_type": "stream",
     "text": [
      "The r-value is: 0.9163039646807962\n"
     ]
    },
    {
     "data": {
      "image/png": "[encoded data removed]",
      "text/plain": [
       "<Figure size 432x288 with 1 Axes>"
      ]
     },
     "metadata": {
      "needs_background": "light"
     },
     "output_type": "display_data"
    }
   ],
   "source": [
    "# Southern Hemisphere - Max Temp vs. Latitude Linear Regression\n",
    "xlabel = \"Lat\"\n",
    "ylabel = \"Max Temp\"\n",
    "plt.title('Southern Hemisphere - Max Temp vs. Latitude Linear Regression')\n",
    "plt.savefig(\"Data/Southern Hemisphere - Max Temp vs. Latitude Linear Regression.png\")\n",
    "plot_Linear_Regression(southern_hemisphere[xlabel],southern_hemisphere[ylabel],xlabel,ylabel)"
   ]
  },
  {
   "cell_type": "markdown",
   "metadata": {},
   "source": [
    "Southern Hemisphere - Max Temp vs. Latitude Linear Regression shows that there is positive linear relationship between Max Temp and Latitude in the Southern Hemisphere. When latitude increases, temperature also increases hence a positive linear relationship exists."
   ]
  },
  {
   "cell_type": "markdown",
   "metadata": {},
   "source": [
    "####  Northern Hemisphere - Humidity (%) vs. Latitude Linear Regression"
   ]
  },
  {
   "cell_type": "code",
   "execution_count": 99,
   "metadata": {},
   "outputs": [
    {
     "name": "stdout",
     "output_type": "stream",
     "text": [
      "The r-value is: -0.09096801000364706\n"
     ]
    },
    {
     "data": {
      "image/png": "[encoded data removed]",
      "text/plain": [
       "<Figure size 432x288 with 1 Axes>"
      ]
     },
     "metadata": {
      "needs_background": "light"
     },
     "output_type": "display_data"
    }
   ],
   "source": [
    "# Northern Hemisphere - Humidity (%) vs. Latitude Linear Regression\n",
    "xlabel = \"Lat\"\n",
    "ylabel = \"Humidity\"\n",
    "plt.title('Northern Hemisphere - Humidity (%) vs. Latitude Linear Regression')\n",
    "plt.savefig(\"Data/Northern Hemisphere - Humidity (%) vs. Latitude Linear Regression.png\")\n",
    "plot_Linear_Regression(northern_hemisphere[xlabel],northern_hemisphere[ylabel],xlabel,ylabel)"
   ]
  },
  {
   "cell_type": "markdown",
   "metadata": {},
   "source": [
    "Northern Hemisphere - Humidity vs. Latitude Linear Regression plot shows that when latitude increases, Humidity decreases hence a negative linear relationship exists."
   ]
  },
  {
   "cell_type": "markdown",
   "metadata": {},
   "source": [
    "####  Southern Hemisphere - Humidity (%) vs. Latitude Linear Regression"
   ]
  },
  {
   "cell_type": "code",
   "execution_count": 93,
   "metadata": {},
   "outputs": [
    {
     "name": "stdout",
     "output_type": "stream",
     "text": [
      "The r-value is: -0.43688713685298813\n"
     ]
    },
    {
     "data": {
      "image/png": "[encoded data removed]",
      "text/plain": [
       "<Figure size 432x288 with 1 Axes>"
      ]
     },
     "metadata": {
      "needs_background": "light"
     },
     "output_type": "display_data"
    }
   ],
   "source": [
    "# Southern Hemisphere - Humidity (%) vs. Latitude Linear Regression\n",
    "xlabel = \"Lat\"\n",
    "ylabel = \"Humidity\"\n",
    "plt.title('Southern Hemisphere - Humidity (%) vs. Latitude Linear Regression')\n",
    "plt.savefig(\"Data/Southern Hemisphere - Humidity (%) vs. Latitude Linear Regression.png\")\n",
    "plot_Linear_Regression(southern_hemisphere[xlabel],southern_hemisphere[ylabel],xlabel,ylabel)"
   ]
  },
  {
   "cell_type": "markdown",
   "metadata": {},
   "source": [
    "Southern Hemisphere - Humidity (%) vs. Latitude Linear Regression shows that as you move away from the equator (latitude 0) humidity increases."
   ]
  },
  {
   "cell_type": "markdown",
   "metadata": {},
   "source": [
    "####  Northern Hemisphere - Cloudiness (%) vs. Latitude Linear Regression"
   ]
  },
  {
   "cell_type": "code",
   "execution_count": 101,
   "metadata": {},
   "outputs": [
    {
     "name": "stdout",
     "output_type": "stream",
     "text": [
      "The r-value is: -0.06688777457068218\n"
     ]
    },
    {
     "data": {
      "image/png": "[encoded data removed]",
      "text/plain": [
       "<Figure size 432x288 with 1 Axes>"
      ]
     },
     "metadata": {
      "needs_background": "light"
     },
     "output_type": "display_data"
    }
   ],
   "source": [
    "# Northern Hemisphere - Cloudiness (%) vs. Latitude Linear Regression\n",
    "xlabel = \"Lat\"\n",
    "ylabel = \"Cloudiness\"\n",
    "plt.title('Northern Hemisphere - Cloudiness (%) vs. Latitude Linear Regression')\n",
    "plt.savefig(\"Data/Northern Hemisphere - Cloudiness (%) vs. Latitude Linear Regression.png\")\n",
    "plot_Linear_Regression(northern_hemisphere[xlabel],northern_hemisphere[ylabel],xlabel,ylabel)"
   ]
  },
  {
   "cell_type": "markdown",
   "metadata": {},
   "source": [
    "Northern Hemisphere - Cloudiness (%) vs. Latitude Linear Regression plot shows that there is a slight negative correlation between Cloudiness and Latitude in the Northern Hemisphere."
   ]
  },
  {
   "cell_type": "markdown",
   "metadata": {},
   "source": [
    "####  Southern Hemisphere - Cloudiness (%) vs. Latitude Linear Regression"
   ]
  },
  {
   "cell_type": "code",
   "execution_count": 102,
   "metadata": {},
   "outputs": [
    {
     "name": "stdout",
     "output_type": "stream",
     "text": [
      "The r-value is: -0.12351444062305027\n"
     ]
    },
    {
     "data": {
      "image/png": "[encoded data removed]",
      "text/plain": [
       "<Figure size 432x288 with 1 Axes>"
      ]
     },
     "metadata": {
      "needs_background": "light"
     },
     "output_type": "display_data"
    }
   ],
   "source": [
    "# Southern Hemisphere - Cloudiness (%) vs. Latitude Linear Regression\n",
    "xlabel = \"Lat\"\n",
    "ylabel = \"Cloudiness\"\n",
    "plt.title('Southern Hemisphere - Cloudiness (%) vs. Latitude Linear Regression')\n",
    "plt.savefig(\"Data/Southern Hemisphere - Cloudiness (%) vs. Latitude Linear Regression.png\")\n",
    "plot_Linear_Regression(southern_hemisphere[xlabel],southern_hemisphere[ylabel],xlabel,ylabel)"
   ]
  },
  {
   "cell_type": "markdown",
   "metadata": {},
   "source": [
    "Southern Hemisphere - Cloudiness (%) vs. Latitude Linear Regression plot shows that there is a strong negative correlation between Cloudiness and Latitude in the Southern Hemisphere."
   ]
  },
  {
   "cell_type": "markdown",
   "metadata": {},
   "source": [
    "####  Northern Hemisphere - Wind Speed (mph) vs. Latitude Linear Regression"
   ]
  },
  {
   "cell_type": "code",
   "execution_count": 96,
   "metadata": {},
   "outputs": [
    {
     "name": "stdout",
     "output_type": "stream",
     "text": [
      "The r-value is: 0.4601404489224352\n"
     ]
    },
    {
     "data": {
      "image/png": "[encoded data removed]",
      "text/plain": [
       "<Figure size 432x288 with 1 Axes>"
      ]
     },
     "metadata": {
      "needs_background": "light"
     },
     "output_type": "display_data"
    }
   ],
   "source": [
    "# Northern Hemisphere - Wind Speed (mph) vs. Latitude Linear Regression\n",
    "xlabel = \"Lat\"\n",
    "ylabel = \"Wind Speed\"\n",
    "plt.title('Northern Hemisphere - Wind Speed (mph) vs. Latitude Linear Regression')\n",
    "plt.savefig(\"Data/Northern Hemisphere - Wind Speed (mph) vs. Latitude Linear Regression.png\")\n",
    "plot_Linear_Regression(northern_hemisphere[xlabel],northern_hemisphere[ylabel],xlabel,ylabel)"
   ]
  },
  {
   "cell_type": "markdown",
   "metadata": {},
   "source": [
    "Northern Hemisphere - Wind Speed vs. Latitude Linear Regression plot shows that there is a strong positive correlation between Wind Speed and Latitude in the Northern Hemisphere."
   ]
  },
  {
   "cell_type": "markdown",
   "metadata": {},
   "source": [
    "####  Southern Hemisphere - Wind Speed (mph) vs. Latitude Linear Regression"
   ]
  },
  {
   "cell_type": "code",
   "execution_count": 103,
   "metadata": {},
   "outputs": [
    {
     "name": "stdout",
     "output_type": "stream",
     "text": [
      "The r-value is: -0.34428254581682693\n"
     ]
    },
    {
     "data": {
      "image/png": "[encoded data removed]",
      "text/plain": [
       "<Figure size 432x288 with 1 Axes>"
      ]
     },
     "metadata": {
      "needs_background": "light"
     },
     "output_type": "display_data"
    }
   ],
   "source": [
    "# Southern Hemisphere - Wind Speed (mph) vs. Latitude Linear Regression\n",
    "xlabel = \"Lat\"\n",
    "ylabel = \"Wind Speed\"\n",
    "plt.title('Southern Hemisphere - Wind Speed (mph) vs. Latitude Linear Regression')\n",
    "plt.savefig(\"Data/Southern Hemisphere - Wind Speed (mph) vs. Latitude Linear Regression.png\")\n",
    "plot_Linear_Regression(southern_hemisphere[xlabel],southern_hemisphere[ylabel],xlabel,ylabel)"
   ]
  },
  {
   "cell_type": "markdown",
   "metadata": {},
   "source": [
    "Southern Hemisphere - Wind Speed vs. Latitude Linear Regression plot shows that there is a strong negative correlation between Wind Speed and Latitude in the Southern Hemisphere."
   ]
  }
 ],
 "metadata": {
  "anaconda-cloud": {},
  "kernel_info": {
   "name": "python3"
  },
  "kernelspec": {
   "display_name": "Python 3",
   "language": "python",
   "name": "python3"
  },
  "language_info": {
   "codemirror_mode": {
    "name": "ipython",
    "version": 3
   },
   "file_extension": ".py",
   "mimetype": "text/x-python",
   "name": "python",
   "nbconvert_exporter": "python",
   "pygments_lexer": "ipython3",
   "version": "3.8.8"
  },
  "latex_envs": {
   "LaTeX_envs_menu_present": true,
   "autoclose": false,
   "autocomplete": true,
   "bibliofile": "biblio.bib",
   "cite_by": "apalike",
   "current_citInitial": 1,
   "eqLabelWithNumbers": true,
   "eqNumInitial": 1,
   "hotkeys": {
    "equation": "Ctrl-E",
    "itemize": "Ctrl-I"
   },
   "labels_anchors": false,
   "latex_user_defs": false,
   "report_style_numbering": false,
   "user_envs_cfg": false
  },
  "nteract": {
   "version": "0.12.3"
  }
 },
 "nbformat": 4,
 "nbformat_minor": 2
}
